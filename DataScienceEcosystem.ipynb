{
 "cells": [
  {
   "cell_type": "markdown",
   "id": "2eb6252f-fd5f-4bd1-9c7b-dd07b3017014",
   "metadata": {},
   "source": [
    "# Data Science Tools and Ecosystem"
   ]
  },
  {
   "cell_type": "markdown",
   "id": "182a4a7c-e239-4892-951d-b47919d69e4c",
   "metadata": {},
   "source": [
    "### This notebook will include summaries of Data Science Tool and Ecosystem"
   ]
  },
  {
   "cell_type": "markdown",
   "id": "fb45d1f3-cc05-4f16-b136-dc4aa5836305",
   "metadata": {},
   "source": [
    "## Objectives\n",
    "- List popular languages in Data Science\n",
    "- List commonly used libraries in Data Science\n",
    "- List Data Science Tools\n",
    "- Provide examples of evalutating arithmetic expressions using Python"
   ]
  },
  {
   "cell_type": "markdown",
   "id": "04467ed6-d048-4ae2-b813-96db0c581278",
   "metadata": {},
   "source": [
    "### Some of the popular languages that Data Scientists use are:\n",
    "1. Python\n",
    "2. R\n",
    "3. Java\n",
    "4. C++\n",
    "5. C"
   ]
  },
  {
   "cell_type": "markdown",
   "id": "8aca2931-391e-44d6-93b6-7584c1dfcf4f",
   "metadata": {},
   "source": [
    "### Some of the commonly used libraries used by Data Scientists include:\n",
    "1. Pandas\n",
    "2. NumPy\n",
    "3. SciPy\n",
    "4. Scikit-learn\n",
    "5. Matplotlib"
   ]
  },
  {
   "cell_type": "markdown",
   "id": "8ecaf144-c65a-431c-a45c-b6a11bd1315f",
   "metadata": {},
   "source": [
    "|Data Science Tools|\n",
    "|-----|\n",
    "|Visual Studio Code|\n",
    "|GitLab|\n",
    "|Python|\n",
    "|Apache|"
   ]
  },
  {
   "cell_type": "markdown",
   "id": "59d5c75a-56d0-43e2-838a-276d581eba73",
   "metadata": {},
   "source": [
    "### Below are a few examples of evaluating arithmetic expressions in Python.\n"
   ]
  },
  {
   "cell_type": "code",
   "execution_count": 2,
   "id": "60068adc-bf71-4521-b920-1cf8d3f2ff44",
   "metadata": {},
   "outputs": [
    {
     "data": {
      "text/plain": [
       "17"
      ]
     },
     "execution_count": 2,
     "metadata": {},
     "output_type": "execute_result"
    }
   ],
   "source": [
    "(3*4)+5 # This a simple arithmetic expression to mutiply then add integers."
   ]
  },
  {
   "cell_type": "code",
   "execution_count": 4,
   "id": "d15d8cd2-0a2b-416e-9859-991f43942cb0",
   "metadata": {},
   "outputs": [
    {
     "data": {
      "text/plain": [
       "3"
      ]
     },
     "execution_count": 4,
     "metadata": {},
     "output_type": "execute_result"
    }
   ],
   "source": [
    "200//60 # This will convert 200 minutes to hours by diving by 60"
   ]
  },
  {
   "cell_type": "markdown",
   "id": "0bf99750-087b-4ae8-8ee0-3977a095534e",
   "metadata": {},
   "source": [
    "## Author\n",
    "Toni Barbee"
   ]
  },
  {
   "cell_type": "code",
   "execution_count": null,
   "id": "f940ebb4-b6fa-4159-a0ab-5490bd830def",
   "metadata": {},
   "outputs": [],
   "source": []
  }
 ],
 "metadata": {
  "kernelspec": {
   "display_name": "Python 3 (ipykernel)",
   "language": "python",
   "name": "python3"
  },
  "language_info": {
   "codemirror_mode": {
    "name": "ipython",
    "version": 3
   },
   "file_extension": ".py",
   "mimetype": "text/x-python",
   "name": "python",
   "nbconvert_exporter": "python",
   "pygments_lexer": "ipython3",
   "version": "3.11.7"
  }
 },
 "nbformat": 4,
 "nbformat_minor": 5
}
